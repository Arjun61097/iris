{
 "cells": [
  {
   "cell_type": "markdown",
   "id": "d9be660e",
   "metadata": {},
   "source": [
    "### Loading libraries"
   ]
  },
  {
   "cell_type": "code",
   "execution_count": 1,
   "id": "950387e6",
   "metadata": {},
   "outputs": [],
   "source": [
    "import numpy as np\n",
    "import pandas as pd\n",
    "import seaborn as sns\n",
    "import matplotlib.pyplot as plt\n",
    "%matplotlib inline"
   ]
  },
  {
   "cell_type": "markdown",
   "id": "3f94889f",
   "metadata": {},
   "source": [
    "### Reading in data"
   ]
  },
  {
   "cell_type": "code",
   "execution_count": 2,
   "id": "93907345",
   "metadata": {},
   "outputs": [
    {
     "data": {
      "text/html": [
       "<div>\n",
       "<style scoped>\n",
       "    .dataframe tbody tr th:only-of-type {\n",
       "        vertical-align: middle;\n",
       "    }\n",
       "\n",
       "    .dataframe tbody tr th {\n",
       "        vertical-align: top;\n",
       "    }\n",
       "\n",
       "    .dataframe thead th {\n",
       "        text-align: right;\n",
       "    }\n",
       "</style>\n",
       "<table border=\"1\" class=\"dataframe\">\n",
       "  <thead>\n",
       "    <tr style=\"text-align: right;\">\n",
       "      <th></th>\n",
       "      <th>sepal.length</th>\n",
       "      <th>sepal.width</th>\n",
       "      <th>petal.length</th>\n",
       "      <th>petal.width</th>\n",
       "      <th>variety</th>\n",
       "    </tr>\n",
       "  </thead>\n",
       "  <tbody>\n",
       "    <tr>\n",
       "      <th>0</th>\n",
       "      <td>5.1</td>\n",
       "      <td>3.5</td>\n",
       "      <td>1.4</td>\n",
       "      <td>0.2</td>\n",
       "      <td>Setosa</td>\n",
       "    </tr>\n",
       "    <tr>\n",
       "      <th>1</th>\n",
       "      <td>4.9</td>\n",
       "      <td>3.0</td>\n",
       "      <td>1.4</td>\n",
       "      <td>0.2</td>\n",
       "      <td>Setosa</td>\n",
       "    </tr>\n",
       "    <tr>\n",
       "      <th>2</th>\n",
       "      <td>4.7</td>\n",
       "      <td>3.2</td>\n",
       "      <td>1.3</td>\n",
       "      <td>0.2</td>\n",
       "      <td>Setosa</td>\n",
       "    </tr>\n",
       "    <tr>\n",
       "      <th>3</th>\n",
       "      <td>4.6</td>\n",
       "      <td>3.1</td>\n",
       "      <td>1.5</td>\n",
       "      <td>0.2</td>\n",
       "      <td>Setosa</td>\n",
       "    </tr>\n",
       "    <tr>\n",
       "      <th>4</th>\n",
       "      <td>5.0</td>\n",
       "      <td>3.6</td>\n",
       "      <td>1.4</td>\n",
       "      <td>0.2</td>\n",
       "      <td>Setosa</td>\n",
       "    </tr>\n",
       "  </tbody>\n",
       "</table>\n",
       "</div>"
      ],
      "text/plain": [
       "   sepal.length  sepal.width  petal.length  petal.width variety\n",
       "0           5.1          3.5           1.4          0.2  Setosa\n",
       "1           4.9          3.0           1.4          0.2  Setosa\n",
       "2           4.7          3.2           1.3          0.2  Setosa\n",
       "3           4.6          3.1           1.5          0.2  Setosa\n",
       "4           5.0          3.6           1.4          0.2  Setosa"
      ]
     },
     "execution_count": 2,
     "metadata": {},
     "output_type": "execute_result"
    }
   ],
   "source": [
    "iris = pd.read_csv('iris.csv')\n",
    "iris.head()"
   ]
  },
  {
   "cell_type": "markdown",
   "id": "cb5e52ec",
   "metadata": {},
   "source": [
    "### Exploring Data"
   ]
  },
  {
   "cell_type": "code",
   "execution_count": 3,
   "id": "937cab6f",
   "metadata": {},
   "outputs": [
    {
     "data": {
      "text/plain": [
       "(150, 5)"
      ]
     },
     "execution_count": 3,
     "metadata": {},
     "output_type": "execute_result"
    }
   ],
   "source": [
    "iris.shape"
   ]
  },
  {
   "cell_type": "code",
   "execution_count": 4,
   "id": "789c5e6d",
   "metadata": {},
   "outputs": [
    {
     "name": "stdout",
     "output_type": "stream",
     "text": [
      "<class 'pandas.core.frame.DataFrame'>\n",
      "RangeIndex: 150 entries, 0 to 149\n",
      "Data columns (total 5 columns):\n",
      " #   Column        Non-Null Count  Dtype  \n",
      "---  ------        --------------  -----  \n",
      " 0   sepal.length  150 non-null    float64\n",
      " 1   sepal.width   150 non-null    float64\n",
      " 2   petal.length  150 non-null    float64\n",
      " 3   petal.width   150 non-null    float64\n",
      " 4   variety       150 non-null    object \n",
      "dtypes: float64(4), object(1)\n",
      "memory usage: 6.0+ KB\n"
     ]
    }
   ],
   "source": [
    "iris.info()"
   ]
  },
  {
   "cell_type": "code",
   "execution_count": 5,
   "id": "0f42b8bb",
   "metadata": {},
   "outputs": [],
   "source": [
    "# observations: 1. there are no null values in any columns\n",
    "#               2. first four columns have numeric values\n",
    "#               3. last column is catagorical"
   ]
  },
  {
   "cell_type": "code",
   "execution_count": 6,
   "id": "0ff59ece",
   "metadata": {},
   "outputs": [
    {
     "data": {
      "text/plain": [
       "Setosa        50\n",
       "Versicolor    50\n",
       "Virginica     50\n",
       "Name: variety, dtype: int64"
      ]
     },
     "execution_count": 6,
     "metadata": {},
     "output_type": "execute_result"
    }
   ],
   "source": [
    "iris['variety'].value_counts()"
   ]
  },
  {
   "cell_type": "code",
   "execution_count": 7,
   "id": "ecbae2d9",
   "metadata": {},
   "outputs": [],
   "source": [
    "# observations: 1. target column has 3 varieties (Setosa, Virginica, and Versicolor) of iris\n",
    "#               2. each variety has 50 values"
   ]
  },
  {
   "cell_type": "code",
   "execution_count": 8,
   "id": "a602d0a9",
   "metadata": {},
   "outputs": [
    {
     "data": {
      "text/html": [
       "<div>\n",
       "<style scoped>\n",
       "    .dataframe tbody tr th:only-of-type {\n",
       "        vertical-align: middle;\n",
       "    }\n",
       "\n",
       "    .dataframe tbody tr th {\n",
       "        vertical-align: top;\n",
       "    }\n",
       "\n",
       "    .dataframe thead th {\n",
       "        text-align: right;\n",
       "    }\n",
       "</style>\n",
       "<table border=\"1\" class=\"dataframe\">\n",
       "  <thead>\n",
       "    <tr style=\"text-align: right;\">\n",
       "      <th></th>\n",
       "      <th>sepal.length</th>\n",
       "      <th>sepal.width</th>\n",
       "      <th>petal.length</th>\n",
       "      <th>petal.width</th>\n",
       "    </tr>\n",
       "  </thead>\n",
       "  <tbody>\n",
       "    <tr>\n",
       "      <th>count</th>\n",
       "      <td>150.000000</td>\n",
       "      <td>150.000000</td>\n",
       "      <td>150.000000</td>\n",
       "      <td>150.000000</td>\n",
       "    </tr>\n",
       "    <tr>\n",
       "      <th>mean</th>\n",
       "      <td>5.843333</td>\n",
       "      <td>3.057333</td>\n",
       "      <td>3.758000</td>\n",
       "      <td>1.199333</td>\n",
       "    </tr>\n",
       "    <tr>\n",
       "      <th>std</th>\n",
       "      <td>0.828066</td>\n",
       "      <td>0.435866</td>\n",
       "      <td>1.765298</td>\n",
       "      <td>0.762238</td>\n",
       "    </tr>\n",
       "    <tr>\n",
       "      <th>min</th>\n",
       "      <td>4.300000</td>\n",
       "      <td>2.000000</td>\n",
       "      <td>1.000000</td>\n",
       "      <td>0.100000</td>\n",
       "    </tr>\n",
       "    <tr>\n",
       "      <th>25%</th>\n",
       "      <td>5.100000</td>\n",
       "      <td>2.800000</td>\n",
       "      <td>1.600000</td>\n",
       "      <td>0.300000</td>\n",
       "    </tr>\n",
       "    <tr>\n",
       "      <th>50%</th>\n",
       "      <td>5.800000</td>\n",
       "      <td>3.000000</td>\n",
       "      <td>4.350000</td>\n",
       "      <td>1.300000</td>\n",
       "    </tr>\n",
       "    <tr>\n",
       "      <th>75%</th>\n",
       "      <td>6.400000</td>\n",
       "      <td>3.300000</td>\n",
       "      <td>5.100000</td>\n",
       "      <td>1.800000</td>\n",
       "    </tr>\n",
       "    <tr>\n",
       "      <th>max</th>\n",
       "      <td>7.900000</td>\n",
       "      <td>4.400000</td>\n",
       "      <td>6.900000</td>\n",
       "      <td>2.500000</td>\n",
       "    </tr>\n",
       "  </tbody>\n",
       "</table>\n",
       "</div>"
      ],
      "text/plain": [
       "       sepal.length  sepal.width  petal.length  petal.width\n",
       "count    150.000000   150.000000    150.000000   150.000000\n",
       "mean       5.843333     3.057333      3.758000     1.199333\n",
       "std        0.828066     0.435866      1.765298     0.762238\n",
       "min        4.300000     2.000000      1.000000     0.100000\n",
       "25%        5.100000     2.800000      1.600000     0.300000\n",
       "50%        5.800000     3.000000      4.350000     1.300000\n",
       "75%        6.400000     3.300000      5.100000     1.800000\n",
       "max        7.900000     4.400000      6.900000     2.500000"
      ]
     },
     "execution_count": 8,
     "metadata": {},
     "output_type": "execute_result"
    }
   ],
   "source": [
    "iris.describe()"
   ]
  },
  {
   "cell_type": "code",
   "execution_count": 9,
   "id": "ac40332f",
   "metadata": {},
   "outputs": [
    {
     "data": {
      "text/html": [
       "<div>\n",
       "<style scoped>\n",
       "    .dataframe tbody tr th:only-of-type {\n",
       "        vertical-align: middle;\n",
       "    }\n",
       "\n",
       "    .dataframe tbody tr th {\n",
       "        vertical-align: top;\n",
       "    }\n",
       "\n",
       "    .dataframe thead th {\n",
       "        text-align: right;\n",
       "    }\n",
       "</style>\n",
       "<table border=\"1\" class=\"dataframe\">\n",
       "  <thead>\n",
       "    <tr style=\"text-align: right;\">\n",
       "      <th></th>\n",
       "      <th>sepal.length</th>\n",
       "      <th>sepal.width</th>\n",
       "      <th>petal.length</th>\n",
       "      <th>petal.width</th>\n",
       "    </tr>\n",
       "    <tr>\n",
       "      <th>variety</th>\n",
       "      <th></th>\n",
       "      <th></th>\n",
       "      <th></th>\n",
       "      <th></th>\n",
       "    </tr>\n",
       "  </thead>\n",
       "  <tbody>\n",
       "    <tr>\n",
       "      <th>Setosa</th>\n",
       "      <td>5.006</td>\n",
       "      <td>3.428</td>\n",
       "      <td>1.462</td>\n",
       "      <td>0.246</td>\n",
       "    </tr>\n",
       "    <tr>\n",
       "      <th>Versicolor</th>\n",
       "      <td>5.936</td>\n",
       "      <td>2.770</td>\n",
       "      <td>4.260</td>\n",
       "      <td>1.326</td>\n",
       "    </tr>\n",
       "    <tr>\n",
       "      <th>Virginica</th>\n",
       "      <td>6.588</td>\n",
       "      <td>2.974</td>\n",
       "      <td>5.552</td>\n",
       "      <td>2.026</td>\n",
       "    </tr>\n",
       "  </tbody>\n",
       "</table>\n",
       "</div>"
      ],
      "text/plain": [
       "            sepal.length  sepal.width  petal.length  petal.width\n",
       "variety                                                         \n",
       "Setosa             5.006        3.428         1.462        0.246\n",
       "Versicolor         5.936        2.770         4.260        1.326\n",
       "Virginica          6.588        2.974         5.552        2.026"
      ]
     },
     "execution_count": 9,
     "metadata": {},
     "output_type": "execute_result"
    }
   ],
   "source": [
    "iris.groupby('variety').mean()"
   ]
  },
  {
   "cell_type": "markdown",
   "id": "365c8b25",
   "metadata": {},
   "source": [
    "\n"
   ]
  },
  {
   "cell_type": "markdown",
   "id": "fb7960e4",
   "metadata": {},
   "source": [
    "### Visualizations"
   ]
  },
  {
   "cell_type": "markdown",
   "id": "aab5d6bc",
   "metadata": {},
   "source": [
    "#### Histograms"
   ]
  },
  {
   "cell_type": "code",
   "execution_count": 10,
   "id": "1d891bf0",
   "metadata": {},
   "outputs": [
    {
     "name": "stderr",
     "output_type": "stream",
     "text": [
      "C:\\Users\\arjun\\anaconda3\\lib\\site-packages\\seaborn\\distributions.py:2619: FutureWarning: `distplot` is a deprecated function and will be removed in a future version. Please adapt your code to use either `displot` (a figure-level function with similar flexibility) or `histplot` (an axes-level function for histograms).\n",
      "  warnings.warn(msg, FutureWarning)\n"
     ]
    },
    {
     "data": {
      "image/png": "[encoded data removed]",
      "text/plain": [
       "<Figure size 640x480 with 1 Axes>"
      ]
     },
     "metadata": {},
     "output_type": "display_data"
    },
    {
     "data": {
      "image/png": "[encoded data removed]",
      "text/plain": [
       "<Figure size 640x480 with 1 Axes>"
      ]
     },
     "metadata": {},
     "output_type": "display_data"
    },
    {
     "data": {
      "image/png": "[encoded data removed]",
      "text/plain": [
       "<Figure size 640x480 with 1 Axes>"
      ]
     },
     "metadata": {},
     "output_type": "display_data"
    },
    {
     "data": {
      "image/png": "[encoded data removed]",
      "text/plain": [
       "<Figure size 640x480 with 1 Axes>"
      ]
     },
     "metadata": {},
     "output_type": "display_data"
    }
   ],
   "source": [
    "for i in ['sepal.length','sepal.width','petal.length','petal.width']:\n",
    "    seto = list(iris[iris['variety'] == 'Setosa'][i])\n",
    "    virgi = list(iris[iris['variety'] == 'Versicolor'][i])\n",
    "    versi = list(iris[iris['variety'] == 'Virginica'][i])\n",
    "    xmin = min(min(seto), min(virgi), min(versi))          \n",
    "    xmax = max(max(seto), max(virgi), max(versi))\n",
    "    width = (xmax - xmin) / 40 \n",
    "    \n",
    "    sns.distplot(seto, color='r', kde=False, bins=np.arange(xmin, xmax, width))           \n",
    "    sns.distplot(virgi, color='b', kde=False, bins=np.arange(xmin, xmax, width))\n",
    "    sns.distplot(versi, color='g', kde=False, bins=np.arange(xmin, xmax, width))\n",
    "    plt.legend(['Setosa', 'Versicolor', 'Virginica'])\n",
    "    plt.title('histogram for {}'.format(i))\n",
    "    plt.show()"
   ]
  },
  {
   "cell_type": "code",
   "execution_count": 11,
   "id": "e07d1e12",
   "metadata": {},
   "outputs": [],
   "source": [
    "# Setosa's petal length and petal width are separated from Virginica and Versicolor by good margin"
   ]
  },
  {
   "cell_type": "markdown",
   "id": "04fbb0c1",
   "metadata": {},
   "source": [
    "### Encoding target variable"
   ]
  },
  {
   "cell_type": "code",
   "execution_count": 12,
   "id": "3dfc7e52",
   "metadata": {},
   "outputs": [],
   "source": [
    "# convert target column to numeric\n",
    "variety_num = {'Setosa': 0, 'Versicolor': 1, 'Virginica': 2 }\n",
    "iris['variety'] = iris['variety'].map(variety_num)"
   ]
  },
  {
   "cell_type": "code",
   "execution_count": 13,
   "id": "5662d471",
   "metadata": {},
   "outputs": [
    {
     "data": {
      "text/html": [
       "<div>\n",
       "<style scoped>\n",
       "    .dataframe tbody tr th:only-of-type {\n",
       "        vertical-align: middle;\n",
       "    }\n",
       "\n",
       "    .dataframe tbody tr th {\n",
       "        vertical-align: top;\n",
       "    }\n",
       "\n",
       "    .dataframe thead th {\n",
       "        text-align: right;\n",
       "    }\n",
       "</style>\n",
       "<table border=\"1\" class=\"dataframe\">\n",
       "  <thead>\n",
       "    <tr style=\"text-align: right;\">\n",
       "      <th></th>\n",
       "      <th>sepal.length</th>\n",
       "      <th>sepal.width</th>\n",
       "      <th>petal.length</th>\n",
       "      <th>petal.width</th>\n",
       "      <th>variety</th>\n",
       "    </tr>\n",
       "  </thead>\n",
       "  <tbody>\n",
       "    <tr>\n",
       "      <th>0</th>\n",
       "      <td>5.1</td>\n",
       "      <td>3.5</td>\n",
       "      <td>1.4</td>\n",
       "      <td>0.2</td>\n",
       "      <td>0</td>\n",
       "    </tr>\n",
       "    <tr>\n",
       "      <th>1</th>\n",
       "      <td>4.9</td>\n",
       "      <td>3.0</td>\n",
       "      <td>1.4</td>\n",
       "      <td>0.2</td>\n",
       "      <td>0</td>\n",
       "    </tr>\n",
       "    <tr>\n",
       "      <th>2</th>\n",
       "      <td>4.7</td>\n",
       "      <td>3.2</td>\n",
       "      <td>1.3</td>\n",
       "      <td>0.2</td>\n",
       "      <td>0</td>\n",
       "    </tr>\n",
       "    <tr>\n",
       "      <th>3</th>\n",
       "      <td>4.6</td>\n",
       "      <td>3.1</td>\n",
       "      <td>1.5</td>\n",
       "      <td>0.2</td>\n",
       "      <td>0</td>\n",
       "    </tr>\n",
       "    <tr>\n",
       "      <th>4</th>\n",
       "      <td>5.0</td>\n",
       "      <td>3.6</td>\n",
       "      <td>1.4</td>\n",
       "      <td>0.2</td>\n",
       "      <td>0</td>\n",
       "    </tr>\n",
       "  </tbody>\n",
       "</table>\n",
       "</div>"
      ],
      "text/plain": [
       "   sepal.length  sepal.width  petal.length  petal.width  variety\n",
       "0           5.1          3.5           1.4          0.2        0\n",
       "1           4.9          3.0           1.4          0.2        0\n",
       "2           4.7          3.2           1.3          0.2        0\n",
       "3           4.6          3.1           1.5          0.2        0\n",
       "4           5.0          3.6           1.4          0.2        0"
      ]
     },
     "execution_count": 13,
     "metadata": {},
     "output_type": "execute_result"
    }
   ],
   "source": [
    "iris.head() # checking by displaying first 5 values"
   ]
  },
  {
   "cell_type": "code",
   "execution_count": 14,
   "id": "0cc84b67",
   "metadata": {},
   "outputs": [
    {
     "data": {
      "text/html": [
       "<div>\n",
       "<style scoped>\n",
       "    .dataframe tbody tr th:only-of-type {\n",
       "        vertical-align: middle;\n",
       "    }\n",
       "\n",
       "    .dataframe tbody tr th {\n",
       "        vertical-align: top;\n",
       "    }\n",
       "\n",
       "    .dataframe thead th {\n",
       "        text-align: right;\n",
       "    }\n",
       "</style>\n",
       "<table border=\"1\" class=\"dataframe\">\n",
       "  <thead>\n",
       "    <tr style=\"text-align: right;\">\n",
       "      <th></th>\n",
       "      <th>sepal.length</th>\n",
       "      <th>sepal.width</th>\n",
       "      <th>petal.length</th>\n",
       "      <th>petal.width</th>\n",
       "      <th>variety</th>\n",
       "    </tr>\n",
       "  </thead>\n",
       "  <tbody>\n",
       "    <tr>\n",
       "      <th>145</th>\n",
       "      <td>6.7</td>\n",
       "      <td>3.0</td>\n",
       "      <td>5.2</td>\n",
       "      <td>2.3</td>\n",
       "      <td>2</td>\n",
       "    </tr>\n",
       "    <tr>\n",
       "      <th>146</th>\n",
       "      <td>6.3</td>\n",
       "      <td>2.5</td>\n",
       "      <td>5.0</td>\n",
       "      <td>1.9</td>\n",
       "      <td>2</td>\n",
       "    </tr>\n",
       "    <tr>\n",
       "      <th>147</th>\n",
       "      <td>6.5</td>\n",
       "      <td>3.0</td>\n",
       "      <td>5.2</td>\n",
       "      <td>2.0</td>\n",
       "      <td>2</td>\n",
       "    </tr>\n",
       "    <tr>\n",
       "      <th>148</th>\n",
       "      <td>6.2</td>\n",
       "      <td>3.4</td>\n",
       "      <td>5.4</td>\n",
       "      <td>2.3</td>\n",
       "      <td>2</td>\n",
       "    </tr>\n",
       "    <tr>\n",
       "      <th>149</th>\n",
       "      <td>5.9</td>\n",
       "      <td>3.0</td>\n",
       "      <td>5.1</td>\n",
       "      <td>1.8</td>\n",
       "      <td>2</td>\n",
       "    </tr>\n",
       "  </tbody>\n",
       "</table>\n",
       "</div>"
      ],
      "text/plain": [
       "     sepal.length  sepal.width  petal.length  petal.width  variety\n",
       "145           6.7          3.0           5.2          2.3        2\n",
       "146           6.3          2.5           5.0          1.9        2\n",
       "147           6.5          3.0           5.2          2.0        2\n",
       "148           6.2          3.4           5.4          2.3        2\n",
       "149           5.9          3.0           5.1          1.8        2"
      ]
     },
     "execution_count": 14,
     "metadata": {},
     "output_type": "execute_result"
    }
   ],
   "source": [
    "iris.tail() # checking by displaying last 5 values"
   ]
  },
  {
   "cell_type": "markdown",
   "id": "1804466a",
   "metadata": {},
   "source": [
    "\n",
    "\n",
    "\n"
   ]
  },
  {
   "cell_type": "markdown",
   "id": "9f0321be",
   "metadata": {},
   "source": [
    "### Split data into train, validation, and test set : (ratio - 80:10:10)"
   ]
  },
  {
   "cell_type": "code",
   "execution_count": 15,
   "id": "39016c7e",
   "metadata": {},
   "outputs": [],
   "source": [
    "from sklearn.model_selection import train_test_split"
   ]
  },
  {
   "cell_type": "code",
   "execution_count": 16,
   "id": "aa1aa496",
   "metadata": {},
   "outputs": [],
   "source": [
    "X = iris.drop('variety', axis = 1)\n",
    "y = iris['variety']\n",
    "# separated feature and target columns\n",
    "\n",
    "\n",
    "X_train, X_test, y_train, y_test = train_test_split(X, y, test_size=0.2, random_state=42)\n",
    "X_test, X_val, y_test, y_val = train_test_split(X_test, y_test, test_size=0.5, random_state=42)\n",
    "\n",
    "# split dataset into train, validation and test set of ratio 80:10:10"
   ]
  },
  {
   "cell_type": "code",
   "execution_count": 17,
   "id": "96f068b8",
   "metadata": {},
   "outputs": [
    {
     "name": "stdout",
     "output_type": "stream",
     "text": [
      "120\n",
      "15\n",
      "15\n"
     ]
    }
   ],
   "source": [
    "for ex2 in [X_train, X_test, X_val]:\n",
    "    print(len(ex2))"
   ]
  },
  {
   "cell_type": "code",
   "execution_count": 18,
   "id": "0e1af5ba",
   "metadata": {},
   "outputs": [],
   "source": [
    "#Importing models from sklearn\n",
    "from sklearn.svm import SVC\n",
    "from sklearn.ensemble import RandomForestClassifier\n",
    "from sklearn.ensemble import GradientBoostingClassifier"
   ]
  },
  {
   "cell_type": "markdown",
   "id": "83ae0bf1",
   "metadata": {},
   "source": [
    "### Evaluvating models using k-fold Cross-Validation"
   ]
  },
  {
   "cell_type": "code",
   "execution_count": 19,
   "id": "f22e147d",
   "metadata": {},
   "outputs": [],
   "source": [
    "from sklearn.model_selection import cross_val_score"
   ]
  },
  {
   "cell_type": "code",
   "execution_count": 20,
   "id": "2c25e4ee",
   "metadata": {},
   "outputs": [],
   "source": [
    "svc = SVC()\n",
    "svc_cvscore = cross_val_score(svc, X_train, y_train, cv=5)   \n",
    "\n",
    "# 5 fold cross validation on training set for Support Vector Classifier"
   ]
  },
  {
   "cell_type": "code",
   "execution_count": 21,
   "id": "cb63dad6",
   "metadata": {},
   "outputs": [
    {
     "data": {
      "text/plain": [
       "array([1.        , 0.95833333, 0.83333333, 1.        , 0.95833333])"
      ]
     },
     "execution_count": 21,
     "metadata": {},
     "output_type": "execute_result"
    }
   ],
   "source": [
    "svc_cvscore"
   ]
  },
  {
   "cell_type": "code",
   "execution_count": 22,
   "id": "81ba7251",
   "metadata": {},
   "outputs": [],
   "source": [
    "rf = RandomForestClassifier()\n",
    "rf_cvscore = cross_val_score(rf, X_train, y_train, cv=5)\n",
    "\n",
    "# 5 fold cross validation on training set for Random Forest Classifier"
   ]
  },
  {
   "cell_type": "code",
   "execution_count": 23,
   "id": "267ceed4",
   "metadata": {},
   "outputs": [
    {
     "data": {
      "text/plain": [
       "array([0.95833333, 0.95833333, 0.79166667, 1.        , 0.95833333])"
      ]
     },
     "execution_count": 23,
     "metadata": {},
     "output_type": "execute_result"
    }
   ],
   "source": [
    "rf_cvscore"
   ]
  },
  {
   "cell_type": "code",
   "execution_count": 24,
   "id": "55d6a4db",
   "metadata": {},
   "outputs": [],
   "source": [
    "gb = GradientBoostingClassifier()\n",
    "gb_cvscore = cross_val_score(gb, X_train, y_train, cv=5)\n",
    "\n",
    "# 5 fold cross validation on training set for Gradient Boosting Classifier"
   ]
  },
  {
   "cell_type": "code",
   "execution_count": 25,
   "id": "3652fdd1",
   "metadata": {},
   "outputs": [
    {
     "data": {
      "text/plain": [
       "array([0.95833333, 1.        , 0.83333333, 0.95833333, 0.95833333])"
      ]
     },
     "execution_count": 25,
     "metadata": {},
     "output_type": "execute_result"
    }
   ],
   "source": [
    "gb_cvscore\n"
   ]
  },
  {
   "cell_type": "markdown",
   "id": "68d7c16b",
   "metadata": {},
   "source": [
    "#### On performing 5 fold cross validation on training set for above 3 algorithms, Support Vector Classifier outputs the best overall score."
   ]
  },
  {
   "cell_type": "markdown",
   "id": "56867f10",
   "metadata": {},
   "source": [
    "### Hyperparameter Tuning"
   ]
  },
  {
   "cell_type": "code",
   "execution_count": 26,
   "id": "45cbb96a",
   "metadata": {},
   "outputs": [],
   "source": [
    "from sklearn.model_selection import GridSearchCV"
   ]
  },
  {
   "cell_type": "code",
   "execution_count": 27,
   "id": "7056bb2e",
   "metadata": {},
   "outputs": [],
   "source": [
    "# function to print best hyperparameter values in arranged order\n",
    "def print_results(results):\n",
    "    print('BEST PARAMS: {}\\n'.format(results.best_params_))\n",
    "\n",
    "    means = results.cv_results_['mean_test_score']\n",
    "    stds = results.cv_results_['std_test_score']\n",
    "    for mean, std, params in zip(means, stds, results.cv_results_['params']):\n",
    "        print('{} (+/-{}) for {}'.format(round(mean, 3), round(std * 2, 3), params))"
   ]
  },
  {
   "cell_type": "code",
   "execution_count": 28,
   "id": "4db4b450",
   "metadata": {},
   "outputs": [
    {
     "name": "stdout",
     "output_type": "stream",
     "text": [
      "BEST PARAMS: {'C': 1, 'kernel': 'linear'}\n",
      "\n",
      "0.942 (+/-0.125) for {'C': 0.1, 'kernel': 'linear'}\n",
      "0.892 (+/-0.155) for {'C': 0.1, 'kernel': 'rbf'}\n",
      "0.958 (+/-0.091) for {'C': 1, 'kernel': 'linear'}\n",
      "0.95 (+/-0.122) for {'C': 1, 'kernel': 'rbf'}\n",
      "0.95 (+/-0.122) for {'C': 10, 'kernel': 'linear'}\n",
      "0.95 (+/-0.122) for {'C': 10, 'kernel': 'rbf'}\n"
     ]
    }
   ],
   "source": [
    "# tuning hyperparameter values for Support Vector Classifier using GridSearchCV\n",
    "parameters = {\n",
    "    'kernel': ['linear', 'rbf'],\n",
    "    'C': [0.1, 1, 10]\n",
    "}\n",
    "\n",
    "svc_cv = GridSearchCV(svc, parameters, cv=5)\n",
    "svc_cv.fit(X_train, y_train)\n",
    "\n",
    "print_results(svc_cv)"
   ]
  },
  {
   "cell_type": "code",
   "execution_count": 29,
   "id": "b98edd96",
   "metadata": {},
   "outputs": [
    {
     "data": {
      "text/plain": [
       "SVC(C=1, kernel='linear')"
      ]
     },
     "execution_count": 29,
     "metadata": {},
     "output_type": "execute_result"
    }
   ],
   "source": [
    "svc_cv.best_estimator_"
   ]
  },
  {
   "cell_type": "code",
   "execution_count": 30,
   "id": "8533d046",
   "metadata": {},
   "outputs": [
    {
     "name": "stdout",
     "output_type": "stream",
     "text": [
      "BEST PARAMS: {'max_depth': 4, 'n_estimators': 5}\n",
      "\n",
      "0.925 (+/-0.153) for {'max_depth': 2, 'n_estimators': 5}\n",
      "0.917 (+/-0.139) for {'max_depth': 2, 'n_estimators': 50}\n",
      "0.933 (+/-0.145) for {'max_depth': 2, 'n_estimators': 250}\n",
      "0.958 (+/-0.091) for {'max_depth': 4, 'n_estimators': 5}\n",
      "0.958 (+/-0.129) for {'max_depth': 4, 'n_estimators': 50}\n",
      "0.95 (+/-0.122) for {'max_depth': 4, 'n_estimators': 250}\n",
      "0.95 (+/-0.122) for {'max_depth': 8, 'n_estimators': 5}\n",
      "0.942 (+/-0.113) for {'max_depth': 8, 'n_estimators': 50}\n",
      "0.95 (+/-0.122) for {'max_depth': 8, 'n_estimators': 250}\n",
      "0.942 (+/-0.113) for {'max_depth': 16, 'n_estimators': 5}\n",
      "0.942 (+/-0.113) for {'max_depth': 16, 'n_estimators': 50}\n",
      "0.958 (+/-0.091) for {'max_depth': 16, 'n_estimators': 250}\n",
      "0.933 (+/-0.155) for {'max_depth': 32, 'n_estimators': 5}\n",
      "0.95 (+/-0.122) for {'max_depth': 32, 'n_estimators': 50}\n",
      "0.942 (+/-0.155) for {'max_depth': 32, 'n_estimators': 250}\n",
      "0.958 (+/-0.129) for {'max_depth': None, 'n_estimators': 5}\n",
      "0.933 (+/-0.145) for {'max_depth': None, 'n_estimators': 50}\n",
      "0.95 (+/-0.122) for {'max_depth': None, 'n_estimators': 250}\n"
     ]
    }
   ],
   "source": [
    "# tuning hyperparameter values for Random Forest Classifier\n",
    "parameters = {\n",
    "    'n_estimators': [5, 50, 250],\n",
    "    'max_depth': [2, 4, 8, 16, 32, None]\n",
    "}\n",
    "\n",
    "rf_cv = GridSearchCV(rf, parameters, cv=5)\n",
    "rf_cv.fit(X_train, y_train)\n",
    "\n",
    "print_results(rf_cv)"
   ]
  },
  {
   "cell_type": "code",
   "execution_count": 31,
   "id": "4332c78c",
   "metadata": {},
   "outputs": [
    {
     "data": {
      "text/plain": [
       "RandomForestClassifier(max_depth=4, n_estimators=5)"
      ]
     },
     "execution_count": 31,
     "metadata": {},
     "output_type": "execute_result"
    }
   ],
   "source": [
    "rf_cv.best_estimator_"
   ]
  },
  {
   "cell_type": "code",
   "execution_count": 32,
   "id": "2ed414c8",
   "metadata": {},
   "outputs": [
    {
     "name": "stdout",
     "output_type": "stream",
     "text": [
      "BEST PARAMS: {'learning_rate': 0.01, 'max_depth': 1, 'n_estimators': 250}\n",
      "\n",
      "0.858 (+/-0.208) for {'learning_rate': 0.01, 'max_depth': 1, 'n_estimators': 5}\n",
      "0.908 (+/-0.122) for {'learning_rate': 0.01, 'max_depth': 1, 'n_estimators': 50}\n",
      "0.958 (+/-0.091) for {'learning_rate': 0.01, 'max_depth': 1, 'n_estimators': 250}\n",
      "0.95 (+/-0.082) for {'learning_rate': 0.01, 'max_depth': 1, 'n_estimators': 500}\n",
      "0.942 (+/-0.125) for {'learning_rate': 0.01, 'max_depth': 3, 'n_estimators': 5}\n",
      "0.95 (+/-0.122) for {'learning_rate': 0.01, 'max_depth': 3, 'n_estimators': 50}\n",
      "0.95 (+/-0.122) for {'learning_rate': 0.01, 'max_depth': 3, 'n_estimators': 250}\n",
      "0.942 (+/-0.113) for {'learning_rate': 0.01, 'max_depth': 3, 'n_estimators': 500}\n",
      "0.95 (+/-0.122) for {'learning_rate': 0.01, 'max_depth': 5, 'n_estimators': 5}\n",
      "0.942 (+/-0.113) for {'learning_rate': 0.01, 'max_depth': 5, 'n_estimators': 50}\n",
      "0.942 (+/-0.113) for {'learning_rate': 0.01, 'max_depth': 5, 'n_estimators': 250}\n",
      "0.942 (+/-0.113) for {'learning_rate': 0.01, 'max_depth': 5, 'n_estimators': 500}\n",
      "0.942 (+/-0.113) for {'learning_rate': 0.01, 'max_depth': 7, 'n_estimators': 5}\n",
      "0.95 (+/-0.122) for {'learning_rate': 0.01, 'max_depth': 7, 'n_estimators': 50}\n",
      "0.95 (+/-0.122) for {'learning_rate': 0.01, 'max_depth': 7, 'n_estimators': 250}\n",
      "0.95 (+/-0.122) for {'learning_rate': 0.01, 'max_depth': 7, 'n_estimators': 500}\n",
      "0.95 (+/-0.122) for {'learning_rate': 0.01, 'max_depth': 9, 'n_estimators': 5}\n",
      "0.95 (+/-0.122) for {'learning_rate': 0.01, 'max_depth': 9, 'n_estimators': 50}\n",
      "0.95 (+/-0.122) for {'learning_rate': 0.01, 'max_depth': 9, 'n_estimators': 250}\n",
      "0.95 (+/-0.122) for {'learning_rate': 0.01, 'max_depth': 9, 'n_estimators': 500}\n",
      "0.925 (+/-0.143) for {'learning_rate': 0.1, 'max_depth': 1, 'n_estimators': 5}\n",
      "0.95 (+/-0.082) for {'learning_rate': 0.1, 'max_depth': 1, 'n_estimators': 50}\n",
      "0.925 (+/-0.122) for {'learning_rate': 0.1, 'max_depth': 1, 'n_estimators': 250}\n",
      "0.917 (+/-0.139) for {'learning_rate': 0.1, 'max_depth': 1, 'n_estimators': 500}\n",
      "0.95 (+/-0.122) for {'learning_rate': 0.1, 'max_depth': 3, 'n_estimators': 5}\n",
      "0.942 (+/-0.113) for {'learning_rate': 0.1, 'max_depth': 3, 'n_estimators': 50}\n",
      "0.917 (+/-0.105) for {'learning_rate': 0.1, 'max_depth': 3, 'n_estimators': 250}\n",
      "0.917 (+/-0.105) for {'learning_rate': 0.1, 'max_depth': 3, 'n_estimators': 500}\n",
      "0.942 (+/-0.113) for {'learning_rate': 0.1, 'max_depth': 5, 'n_estimators': 5}\n",
      "0.942 (+/-0.113) for {'learning_rate': 0.1, 'max_depth': 5, 'n_estimators': 50}\n",
      "0.942 (+/-0.113) for {'learning_rate': 0.1, 'max_depth': 5, 'n_estimators': 250}\n",
      "0.942 (+/-0.113) for {'learning_rate': 0.1, 'max_depth': 5, 'n_estimators': 500}\n",
      "0.942 (+/-0.113) for {'learning_rate': 0.1, 'max_depth': 7, 'n_estimators': 5}\n",
      "0.95 (+/-0.122) for {'learning_rate': 0.1, 'max_depth': 7, 'n_estimators': 50}\n",
      "0.95 (+/-0.122) for {'learning_rate': 0.1, 'max_depth': 7, 'n_estimators': 250}\n",
      "0.95 (+/-0.122) for {'learning_rate': 0.1, 'max_depth': 7, 'n_estimators': 500}\n",
      "0.95 (+/-0.122) for {'learning_rate': 0.1, 'max_depth': 9, 'n_estimators': 5}\n",
      "0.95 (+/-0.122) for {'learning_rate': 0.1, 'max_depth': 9, 'n_estimators': 50}\n",
      "0.95 (+/-0.122) for {'learning_rate': 0.1, 'max_depth': 9, 'n_estimators': 250}\n",
      "0.95 (+/-0.122) for {'learning_rate': 0.1, 'max_depth': 9, 'n_estimators': 500}\n",
      "0.925 (+/-0.122) for {'learning_rate': 1, 'max_depth': 1, 'n_estimators': 5}\n",
      "0.908 (+/-0.122) for {'learning_rate': 1, 'max_depth': 1, 'n_estimators': 50}\n",
      "0.908 (+/-0.122) for {'learning_rate': 1, 'max_depth': 1, 'n_estimators': 250}\n",
      "0.908 (+/-0.122) for {'learning_rate': 1, 'max_depth': 1, 'n_estimators': 500}\n",
      "0.95 (+/-0.122) for {'learning_rate': 1, 'max_depth': 3, 'n_estimators': 5}\n",
      "0.933 (+/-0.1) for {'learning_rate': 1, 'max_depth': 3, 'n_estimators': 50}\n",
      "0.933 (+/-0.1) for {'learning_rate': 1, 'max_depth': 3, 'n_estimators': 250}\n",
      "0.933 (+/-0.1) for {'learning_rate': 1, 'max_depth': 3, 'n_estimators': 500}\n",
      "0.942 (+/-0.113) for {'learning_rate': 1, 'max_depth': 5, 'n_estimators': 5}\n",
      "0.942 (+/-0.113) for {'learning_rate': 1, 'max_depth': 5, 'n_estimators': 50}\n",
      "0.942 (+/-0.113) for {'learning_rate': 1, 'max_depth': 5, 'n_estimators': 250}\n",
      "0.942 (+/-0.113) for {'learning_rate': 1, 'max_depth': 5, 'n_estimators': 500}\n",
      "0.95 (+/-0.122) for {'learning_rate': 1, 'max_depth': 7, 'n_estimators': 5}\n",
      "0.95 (+/-0.122) for {'learning_rate': 1, 'max_depth': 7, 'n_estimators': 50}\n",
      "0.95 (+/-0.122) for {'learning_rate': 1, 'max_depth': 7, 'n_estimators': 250}\n",
      "0.95 (+/-0.122) for {'learning_rate': 1, 'max_depth': 7, 'n_estimators': 500}\n",
      "0.95 (+/-0.122) for {'learning_rate': 1, 'max_depth': 9, 'n_estimators': 5}\n",
      "0.95 (+/-0.122) for {'learning_rate': 1, 'max_depth': 9, 'n_estimators': 50}\n",
      "0.95 (+/-0.122) for {'learning_rate': 1, 'max_depth': 9, 'n_estimators': 250}\n",
      "0.95 (+/-0.122) for {'learning_rate': 1, 'max_depth': 9, 'n_estimators': 500}\n",
      "0.433 (+/-0.559) for {'learning_rate': 10, 'max_depth': 1, 'n_estimators': 5}\n",
      "0.433 (+/-0.559) for {'learning_rate': 10, 'max_depth': 1, 'n_estimators': 50}\n",
      "0.433 (+/-0.559) for {'learning_rate': 10, 'max_depth': 1, 'n_estimators': 250}\n",
      "0.433 (+/-0.559) for {'learning_rate': 10, 'max_depth': 1, 'n_estimators': 500}\n",
      "0.925 (+/-0.153) for {'learning_rate': 10, 'max_depth': 3, 'n_estimators': 5}\n",
      "0.925 (+/-0.122) for {'learning_rate': 10, 'max_depth': 3, 'n_estimators': 50}\n",
      "0.925 (+/-0.122) for {'learning_rate': 10, 'max_depth': 3, 'n_estimators': 250}\n",
      "0.933 (+/-0.113) for {'learning_rate': 10, 'max_depth': 3, 'n_estimators': 500}\n",
      "0.95 (+/-0.122) for {'learning_rate': 10, 'max_depth': 5, 'n_estimators': 5}\n",
      "0.942 (+/-0.125) for {'learning_rate': 10, 'max_depth': 5, 'n_estimators': 50}\n",
      "0.942 (+/-0.125) for {'learning_rate': 10, 'max_depth': 5, 'n_estimators': 250}\n",
      "0.95 (+/-0.122) for {'learning_rate': 10, 'max_depth': 5, 'n_estimators': 500}\n",
      "0.942 (+/-0.113) for {'learning_rate': 10, 'max_depth': 7, 'n_estimators': 5}\n",
      "0.942 (+/-0.113) for {'learning_rate': 10, 'max_depth': 7, 'n_estimators': 50}\n",
      "0.942 (+/-0.113) for {'learning_rate': 10, 'max_depth': 7, 'n_estimators': 250}\n",
      "0.942 (+/-0.113) for {'learning_rate': 10, 'max_depth': 7, 'n_estimators': 500}\n",
      "0.95 (+/-0.122) for {'learning_rate': 10, 'max_depth': 9, 'n_estimators': 5}\n",
      "0.942 (+/-0.113) for {'learning_rate': 10, 'max_depth': 9, 'n_estimators': 50}\n",
      "0.942 (+/-0.113) for {'learning_rate': 10, 'max_depth': 9, 'n_estimators': 250}\n",
      "0.942 (+/-0.113) for {'learning_rate': 10, 'max_depth': 9, 'n_estimators': 500}\n",
      "0.433 (+/-0.559) for {'learning_rate': 100, 'max_depth': 1, 'n_estimators': 5}\n",
      "0.433 (+/-0.559) for {'learning_rate': 100, 'max_depth': 1, 'n_estimators': 50}\n",
      "0.433 (+/-0.559) for {'learning_rate': 100, 'max_depth': 1, 'n_estimators': 250}\n",
      "0.433 (+/-0.559) for {'learning_rate': 100, 'max_depth': 1, 'n_estimators': 500}\n",
      "0.95 (+/-0.122) for {'learning_rate': 100, 'max_depth': 3, 'n_estimators': 5}\n",
      "0.95 (+/-0.122) for {'learning_rate': 100, 'max_depth': 3, 'n_estimators': 50}\n",
      "0.95 (+/-0.122) for {'learning_rate': 100, 'max_depth': 3, 'n_estimators': 250}\n",
      "0.95 (+/-0.122) for {'learning_rate': 100, 'max_depth': 3, 'n_estimators': 500}\n",
      "0.942 (+/-0.113) for {'learning_rate': 100, 'max_depth': 5, 'n_estimators': 5}\n",
      "0.942 (+/-0.113) for {'learning_rate': 100, 'max_depth': 5, 'n_estimators': 50}\n",
      "0.942 (+/-0.113) for {'learning_rate': 100, 'max_depth': 5, 'n_estimators': 250}\n",
      "0.942 (+/-0.113) for {'learning_rate': 100, 'max_depth': 5, 'n_estimators': 500}\n",
      "0.942 (+/-0.113) for {'learning_rate': 100, 'max_depth': 7, 'n_estimators': 5}\n",
      "0.942 (+/-0.113) for {'learning_rate': 100, 'max_depth': 7, 'n_estimators': 50}\n",
      "0.942 (+/-0.113) for {'learning_rate': 100, 'max_depth': 7, 'n_estimators': 250}\n",
      "0.942 (+/-0.113) for {'learning_rate': 100, 'max_depth': 7, 'n_estimators': 500}\n",
      "0.942 (+/-0.113) for {'learning_rate': 100, 'max_depth': 9, 'n_estimators': 5}\n",
      "0.942 (+/-0.113) for {'learning_rate': 100, 'max_depth': 9, 'n_estimators': 50}\n",
      "0.942 (+/-0.113) for {'learning_rate': 100, 'max_depth': 9, 'n_estimators': 250}\n",
      "0.942 (+/-0.113) for {'learning_rate': 100, 'max_depth': 9, 'n_estimators': 500}\n"
     ]
    }
   ],
   "source": [
    "# tuning hyperparameter values for  Gradient Boosting Classifier\n",
    "parameters = {\n",
    "    'n_estimators': [5, 50, 250, 500],\n",
    "    'max_depth': [1, 3, 5, 7, 9],\n",
    "    'learning_rate': [0.01, 0.1, 1, 10, 100]\n",
    "}\n",
    "\n",
    "gb_cv = GridSearchCV(gb, parameters, cv=5)\n",
    "gb_cv.fit(X_train, y_train)\n",
    "\n",
    "print_results(gb_cv)"
   ]
  },
  {
   "cell_type": "code",
   "execution_count": 33,
   "id": "0a42cbab",
   "metadata": {},
   "outputs": [
    {
     "data": {
      "text/plain": [
       "GradientBoostingClassifier(learning_rate=0.01, max_depth=1, n_estimators=250)"
      ]
     },
     "execution_count": 33,
     "metadata": {},
     "output_type": "execute_result"
    }
   ],
   "source": [
    "gb_cv.best_estimator_"
   ]
  },
  {
   "cell_type": "code",
   "execution_count": 34,
   "id": "5afa89a4",
   "metadata": {},
   "outputs": [],
   "source": [
    "model_svc = svc_cv.best_estimator_\n",
    "model_rf  = rf_cv.best_estimator_\n",
    "model_gb   = gb_cv.best_estimator_  \n",
    "\n",
    "# selected 3 best models after hyper parameter tuning and assigned them into three objects."
   ]
  },
  {
   "cell_type": "markdown",
   "id": "3800b6cd",
   "metadata": {},
   "source": [
    "### Evaluating selected models on the validation set"
   ]
  },
  {
   "cell_type": "code",
   "execution_count": 35,
   "id": "8567cff4",
   "metadata": {},
   "outputs": [],
   "source": [
    "# importing evaluation metrics\n",
    "from sklearn.metrics import accuracy_score, precision_score, recall_score \n",
    "from time import time"
   ]
  },
  {
   "cell_type": "code",
   "execution_count": 36,
   "id": "06149259",
   "metadata": {},
   "outputs": [],
   "source": [
    "# function to print accuracy, precision , recall, and latency\n",
    "def evaluate_model( model, features, labels):\n",
    "    start = time()\n",
    "    pred = model.predict(features)\n",
    "    end = time()\n",
    "    accuracy = round(accuracy_score(labels, pred  ), 3)\n",
    "    precision = round(precision_score(labels, pred, average=\"micro\" ), 3)\n",
    "    recall = round(recall_score(labels, pred, average=\"micro\"), 3)\n",
    "    print('{} -- Accuracy: {} / Precision: {} / Recall: {} / Latency: {}ms'.format(model,\n",
    "                                                                                       accuracy,\n",
    "                                                                                       precision,\n",
    "                                                                                       recall,\n",
    "                                                                                       round((end - start)*1000, 4)))"
   ]
  },
  {
   "cell_type": "code",
   "execution_count": 37,
   "id": "4812a915",
   "metadata": {},
   "outputs": [
    {
     "name": "stdout",
     "output_type": "stream",
     "text": [
      "SVC(C=1, kernel='linear') -- Accuracy: 1.0 / Precision: 1.0 / Recall: 1.0 / Latency: 0.998ms\n"
     ]
    }
   ],
   "source": [
    "evaluate_model( model_svc, X_val, y_val)"
   ]
  },
  {
   "cell_type": "code",
   "execution_count": 38,
   "id": "4270e16c",
   "metadata": {},
   "outputs": [
    {
     "name": "stdout",
     "output_type": "stream",
     "text": [
      "RandomForestClassifier(max_depth=4, n_estimators=5) -- Accuracy: 1.0 / Precision: 1.0 / Recall: 1.0 / Latency: 1.9999ms\n"
     ]
    }
   ],
   "source": [
    "evaluate_model( model_rf, X_val, y_val)"
   ]
  },
  {
   "cell_type": "code",
   "execution_count": 39,
   "id": "8406eff5",
   "metadata": {},
   "outputs": [
    {
     "name": "stdout",
     "output_type": "stream",
     "text": [
      "GradientBoostingClassifier(learning_rate=0.01, max_depth=1, n_estimators=250) -- Accuracy: 1.0 / Precision: 1.0 / Recall: 1.0 / Latency: 1.9855ms\n"
     ]
    }
   ],
   "source": [
    "evaluate_model( model_gb, X_val, y_val)"
   ]
  },
  {
   "cell_type": "markdown",
   "id": "d4acb4b5",
   "metadata": {},
   "source": [
    "#### All 3 models performed equally well on validation dataset with : Accuracy = 1.0 / Precision= 1.0 / Recall= 1.0 "
   ]
  },
  {
   "cell_type": "markdown",
   "id": "dbc53ca6",
   "metadata": {},
   "source": [
    "### Evaluating selected model on test set"
   ]
  },
  {
   "cell_type": "code",
   "execution_count": 40,
   "id": "e576af1e",
   "metadata": {},
   "outputs": [
    {
     "name": "stdout",
     "output_type": "stream",
     "text": [
      "GradientBoostingClassifier(learning_rate=0.01, max_depth=1, n_estimators=250) -- Accuracy: 1.0 / Precision: 1.0 / Recall: 1.0 / Latency: 1.9948ms\n"
     ]
    }
   ],
   "source": [
    "evaluate_model( model_gb, X_test, y_test)"
   ]
  },
  {
   "cell_type": "code",
   "execution_count": null,
   "id": "a1c973c6",
   "metadata": {},
   "outputs": [],
   "source": []
  },
  {
   "cell_type": "code",
   "execution_count": null,
   "id": "adb0bcc5",
   "metadata": {},
   "outputs": [],
   "source": []
  },
  {
   "cell_type": "code",
   "execution_count": null,
   "id": "2bb2ee91",
   "metadata": {},
   "outputs": [],
   "source": []
  },
  {
   "cell_type": "code",
   "execution_count": null,
   "id": "869161ef",
   "metadata": {},
   "outputs": [],
   "source": []
  },
  {
   "cell_type": "code",
   "execution_count": null,
   "id": "37eb705a",
   "metadata": {},
   "outputs": [],
   "source": []
  },
  {
   "cell_type": "code",
   "execution_count": null,
   "id": "dd3eddd9",
   "metadata": {},
   "outputs": [],
   "source": []
  },
  {
   "cell_type": "code",
   "execution_count": null,
   "id": "a20f3566",
   "metadata": {},
   "outputs": [],
   "source": []
  }
 ],
 "metadata": {
  "kernelspec": {
   "display_name": "Python 3 (ipykernel)",
   "language": "python",
   "name": "python3"
  },
  "language_info": {
   "codemirror_mode": {
    "name": "ipython",
    "version": 3
   },
   "file_extension": ".py",
   "mimetype": "text/x-python",
   "name": "python",
   "nbconvert_exporter": "python",
   "pygments_lexer": "ipython3",
   "version": "3.9.13"
  }
 },
 "nbformat": 4,
 "nbformat_minor": 5
}
